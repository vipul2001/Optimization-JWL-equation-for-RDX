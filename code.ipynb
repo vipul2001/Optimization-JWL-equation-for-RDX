{
  "nbformat": 4,
  "nbformat_minor": 0,
  "metadata": {
    "colab": {
      "name": "Untitled51.ipynb",
      "provenance": [],
      "collapsed_sections": [],
      "machine_shape": "hm"
    },
    "kernelspec": {
      "name": "python3",
      "display_name": "Python 3"
    }
  },
  "cells": [
    {
      "cell_type": "code",
      "metadata": {
        "colab_type": "code",
        "id": "3gKoKYOfHx84",
        "colab": {}
      },
      "source": [
        ""
      ],
      "execution_count": 0,
      "outputs": []
    },
    {
      "cell_type": "code",
      "metadata": {
        "id": "kCmQrQbzuh68",
        "colab_type": "code",
        "colab": {}
      },
      "source": [
        "import pandas as pd\n",
        "import numpy as np\n",
        "import scipy \n",
        "import matplotlib.pyplot as plt\n",
        "import seaborn as sns \n",
        "from scipy.optimize import curve_fit"
      ],
      "execution_count": 0,
      "outputs": []
    },
    {
      "cell_type": "code",
      "metadata": {
        "id": "ogNxtZ9wusZT",
        "colab_type": "code",
        "colab": {}
      },
      "source": [
        "s=[[1, 1.709860e+10, 9.882135e-01, 1.800509e+03, -6.951166e+05],\n",
        "[2 ,8.549299e+09, 1.377920e+00 ,1.587362e+03, -2.489381e+06],\n",
        "[3, 4.274650e+09, 1.596560e+00 ,1.371372e+03, -3.648443e+06],\n",
        "[4, 2.137325e+09, 2.278194e+00, 1.175036e+03, -4.441231e+06],\n",
        "[5, 1.068662e+09, 2.978446e+00, 1.004237e+03, -4.972155e+06],\n",
        "[6, 5.343312e+08 ,3.945016e+00, 8.566651e+02, -5.338681e+06],\n",
        "[7, 2.671656e+08, 4.804284e+00, 7.300468e+02, -5.595466e+06],\n",
        "[8, 1.335828e+08, 6.565640e+00, 6.213205e+02 ,-5.779845e+06],\n",
        "[9, 6.679140e+07, 9.118771e+00, 5.281159e+02 ,-5.914153e+06],\n",
        "[10, 3.339570e+07, 1.294697e+01, 4.479740e+02, -6.014636e+06],\n",
        "[11, 1.669785e+07, 1.879395e+01, 3.790007e+02, -6.091109e+06],\n",
        "[12, 8.348925e+06, 2.788737e+01, 3.195392e+02, -6.150809e+06],\n",
        "[13, 3.932678e+10, 7.541419e-01, 2.056349e+03, 2.672650e+06],\n",
        "[14, 4.522579e+10, 7.220323e-01, 2.084648e+03, 3.426775e+06],\n",
        "[15, 5.200966e+10, 6.916810e-01, 2.106536e+03 ,4.247066e+06],\n",
        "[16, 5.981111e+10, 6.630206e-01, 2.120222e+03 ,5.138911e+06],\n",
        "[17, 6.878278e+10, 6.359999e-01, 2.332245e+03 ,7.582476e+06],\n",
        "[18, 7.910020e+10 ,6.109349e-01, 2.110497e+03 ,7.175049e+06],\n",
        "[19, 9.096523e+10 ,5.867808e-01, 2.085488e+03 ,8.307535e+06],\n",
        "[20, 1.046100e+11 ,5.645997e-01, 2.034704e+03 ,9.515448e+06]]"
      ],
      "execution_count": 0,
      "outputs": []
    },
    {
      "cell_type": "code",
      "metadata": {
        "id": "HHGvBjnRvepZ",
        "colab_type": "code",
        "colab": {}
      },
      "source": [
        "df=pd.DataFrame(s)\n",
        "df.columns=['index','P','V','T','E']"
      ],
      "execution_count": 0,
      "outputs": []
    },
    {
      "cell_type": "code",
      "metadata": {
        "id": "9Mv1tcO0vnXc",
        "colab_type": "code",
        "outputId": "a1b7ce87-0309-4d6a-c061-c0872458cbc0",
        "colab": {
          "base_uri": "https://localhost:8080/",
          "height": 204
        }
      },
      "source": [
        "df.sort_values(by=['V'], inplace=True)\n",
        "df.head()"
      ],
      "execution_count": 0,
      "outputs": [
        {
          "output_type": "execute_result",
          "data": {
            "text/html": [
              "<div>\n",
              "<style scoped>\n",
              "    .dataframe tbody tr th:only-of-type {\n",
              "        vertical-align: middle;\n",
              "    }\n",
              "\n",
              "    .dataframe tbody tr th {\n",
              "        vertical-align: top;\n",
              "    }\n",
              "\n",
              "    .dataframe thead th {\n",
              "        text-align: right;\n",
              "    }\n",
              "</style>\n",
              "<table border=\"1\" class=\"dataframe\">\n",
              "  <thead>\n",
              "    <tr style=\"text-align: right;\">\n",
              "      <th></th>\n",
              "      <th>index</th>\n",
              "      <th>P</th>\n",
              "      <th>V</th>\n",
              "      <th>T</th>\n",
              "      <th>E</th>\n",
              "    </tr>\n",
              "  </thead>\n",
              "  <tbody>\n",
              "    <tr>\n",
              "      <th>19</th>\n",
              "      <td>20</td>\n",
              "      <td>1.046100e+11</td>\n",
              "      <td>0.564600</td>\n",
              "      <td>2034.704</td>\n",
              "      <td>9515448.0</td>\n",
              "    </tr>\n",
              "    <tr>\n",
              "      <th>18</th>\n",
              "      <td>19</td>\n",
              "      <td>9.096523e+10</td>\n",
              "      <td>0.586781</td>\n",
              "      <td>2085.488</td>\n",
              "      <td>8307535.0</td>\n",
              "    </tr>\n",
              "    <tr>\n",
              "      <th>17</th>\n",
              "      <td>18</td>\n",
              "      <td>7.910020e+10</td>\n",
              "      <td>0.610935</td>\n",
              "      <td>2110.497</td>\n",
              "      <td>7175049.0</td>\n",
              "    </tr>\n",
              "    <tr>\n",
              "      <th>16</th>\n",
              "      <td>17</td>\n",
              "      <td>6.878278e+10</td>\n",
              "      <td>0.636000</td>\n",
              "      <td>2332.245</td>\n",
              "      <td>7582476.0</td>\n",
              "    </tr>\n",
              "    <tr>\n",
              "      <th>15</th>\n",
              "      <td>16</td>\n",
              "      <td>5.981111e+10</td>\n",
              "      <td>0.663021</td>\n",
              "      <td>2120.222</td>\n",
              "      <td>5138911.0</td>\n",
              "    </tr>\n",
              "  </tbody>\n",
              "</table>\n",
              "</div>"
            ],
            "text/plain": [
              "    index             P         V         T          E\n",
              "19     20  1.046100e+11  0.564600  2034.704  9515448.0\n",
              "18     19  9.096523e+10  0.586781  2085.488  8307535.0\n",
              "17     18  7.910020e+10  0.610935  2110.497  7175049.0\n",
              "16     17  6.878278e+10  0.636000  2332.245  7582476.0\n",
              "15     16  5.981111e+10  0.663021  2120.222  5138911.0"
            ]
          },
          "metadata": {
            "tags": []
          },
          "execution_count": 5
        }
      ]
    },
    {
      "cell_type": "code",
      "metadata": {
        "id": "8pmYCLYSx6DE",
        "colab_type": "code",
        "outputId": "cd01f658-d6fe-4627-d4e9-c7c5157d3578",
        "colab": {
          "base_uri": "https://localhost:8080/",
          "height": 295
        }
      },
      "source": [
        "plt.plot(df.P,df.V)\n",
        "plt.scatter(df.P,df.V)"
      ],
      "execution_count": 0,
      "outputs": [
        {
          "output_type": "execute_result",
          "data": {
            "text/plain": [
              "<matplotlib.collections.PathCollection at 0x7f85ec3397f0>"
            ]
          },
          "metadata": {
            "tags": []
          },
          "execution_count": 6
        },
        {
          "output_type": "display_data",
          "data": {
            "image/png": "[encoded data removed]",
            "text/plain": [
              "<Figure size 432x288 with 1 Axes>"
            ]
          },
          "metadata": {
            "tags": []
          }
        }
      ]
    },
    {
      "cell_type": "code",
      "metadata": {
        "id": "wU4DBG7uvqS3",
        "colab_type": "code",
        "colab": {}
      },
      "source": [
        "def JWL(xdata,r1,r2,A,B,C):\n",
        "  xdata=np.array(xdata)\n",
        "  V,E=xdata\n",
        "  x1=A*(1-(0.5/(r1*V)))*(np.exp(-(r1*V)))\n",
        "  x2=B*(1-(0.5/(r2*V)))*(np.exp(-(r2*V)))\n",
        "  x3=C*(0.5*E)/V\n",
        "  #return x1+x2+x3\n",
        "  return A*(np.exp(-(r1*V)))+B*(np.exp(-(r2*V)))+C*V**(-1.5)"
      ],
      "execution_count": 0,
      "outputs": []
    },
    {
      "cell_type": "code",
      "metadata": {
        "id": "aDolzqcKyWrG",
        "colab_type": "code",
        "outputId": "6df67ddb-fea3-470f-bce3-57837ecb83c5",
        "colab": {
          "base_uri": "https://localhost:8080/",
          "height": 51
        }
      },
      "source": [
        "V=df.V\n",
        "E=df.E\n",
        "popt, pcov = curve_fit(JWL,V,P)"
      ],
      "execution_count": 0,
      "outputs": [
        {
          "output_type": "stream",
          "text": [
            "/usr/local/lib/python3.6/dist-packages/pandas/core/series.py:856: RuntimeWarning: overflow encountered in exp\n",
            "  result = getattr(ufunc, method)(*inputs, **kwargs)\n"
          ],
          "name": "stderr"
        }
      ]
    },
    {
      "cell_type": "code",
      "metadata": {
        "id": "DNXVpMp8yl0q",
        "colab_type": "code",
        "outputId": "b074574c-7ca2-40e4-bb7a-4b6f208af201",
        "colab": {
          "base_uri": "https://localhost:8080/",
          "height": 51
        }
      },
      "source": [
        "popt"
      ],
      "execution_count": 0,
      "outputs": [
        {
          "output_type": "execute_result",
          "data": {
            "text/plain": [
              "array([ 3.02615375e-01,  1.88005013e+00, -6.64223680e+04, -5.97063223e+05,\n",
              "        1.54877713e+05])"
            ]
          },
          "metadata": {
            "tags": []
          },
          "execution_count": 62
        }
      ]
    },
    {
      "cell_type": "code",
      "metadata": {
        "id": "i3DFcMWP3pjE",
        "colab_type": "code",
        "outputId": "494e4c81-12f6-45d7-ede4-a95ac80e23fa",
        "colab": {
          "base_uri": "https://localhost:8080/",
          "height": 204
        }
      },
      "source": [
        "pd.DataFrame(pcov)"
      ],
      "execution_count": 0,
      "outputs": [
        {
          "output_type": "execute_result",
          "data": {
            "text/html": [
              "<div>\n",
              "<style scoped>\n",
              "    .dataframe tbody tr th:only-of-type {\n",
              "        vertical-align: middle;\n",
              "    }\n",
              "\n",
              "    .dataframe tbody tr th {\n",
              "        vertical-align: top;\n",
              "    }\n",
              "\n",
              "    .dataframe thead th {\n",
              "        text-align: right;\n",
              "    }\n",
              "</style>\n",
              "<table border=\"1\" class=\"dataframe\">\n",
              "  <thead>\n",
              "    <tr style=\"text-align: right;\">\n",
              "      <th></th>\n",
              "      <th>0</th>\n",
              "      <th>1</th>\n",
              "      <th>2</th>\n",
              "      <th>3</th>\n",
              "      <th>4</th>\n",
              "    </tr>\n",
              "  </thead>\n",
              "  <tbody>\n",
              "    <tr>\n",
              "      <th>0</th>\n",
              "      <td>0.001078</td>\n",
              "      <td>0.002760</td>\n",
              "      <td>-3.643127e+02</td>\n",
              "      <td>-1.372519e+03</td>\n",
              "      <td>1.821508e+02</td>\n",
              "    </tr>\n",
              "    <tr>\n",
              "      <th>1</th>\n",
              "      <td>0.002760</td>\n",
              "      <td>0.011328</td>\n",
              "      <td>-1.294330e+03</td>\n",
              "      <td>-7.583516e+03</td>\n",
              "      <td>9.893509e+02</td>\n",
              "    </tr>\n",
              "    <tr>\n",
              "      <th>2</th>\n",
              "      <td>-364.312739</td>\n",
              "      <td>-1294.330031</td>\n",
              "      <td>1.586162e+08</td>\n",
              "      <td>8.593837e+08</td>\n",
              "      <td>-1.157009e+08</td>\n",
              "    </tr>\n",
              "    <tr>\n",
              "      <th>3</th>\n",
              "      <td>-1372.519066</td>\n",
              "      <td>-7583.516382</td>\n",
              "      <td>8.593837e+08</td>\n",
              "      <td>6.701807e+09</td>\n",
              "      <td>-9.155427e+08</td>\n",
              "    </tr>\n",
              "    <tr>\n",
              "      <th>4</th>\n",
              "      <td>182.150765</td>\n",
              "      <td>989.350921</td>\n",
              "      <td>-1.157009e+08</td>\n",
              "      <td>-9.155427e+08</td>\n",
              "      <td>1.272846e+08</td>\n",
              "    </tr>\n",
              "  </tbody>\n",
              "</table>\n",
              "</div>"
            ],
            "text/plain": [
              "             0            1             2             3             4\n",
              "0     0.001078     0.002760 -3.643127e+02 -1.372519e+03  1.821508e+02\n",
              "1     0.002760     0.011328 -1.294330e+03 -7.583516e+03  9.893509e+02\n",
              "2  -364.312739 -1294.330031  1.586162e+08  8.593837e+08 -1.157009e+08\n",
              "3 -1372.519066 -7583.516382  8.593837e+08  6.701807e+09 -9.155427e+08\n",
              "4   182.150765   989.350921 -1.157009e+08 -9.155427e+08  1.272846e+08"
            ]
          },
          "metadata": {
            "tags": []
          },
          "execution_count": 63
        }
      ]
    },
    {
      "cell_type": "code",
      "metadata": {
        "id": "VcWZlcp-y3FR",
        "colab_type": "code",
        "outputId": "7bb45cfc-0d04-4c55-f4d9-4fc432c95854",
        "colab": {
          "base_uri": "https://localhost:8080/",
          "height": 280
        }
      },
      "source": [
        "plt.scatter(df.V,(JWL(V, *popt)))\n",
        "plt.plot(df.V, (JWL(V, *popt)))\n",
        "plt.plot(df.V,(df.P))\n",
        "plt.scatter(df.V,(df.P))\n",
        "plt.scatter( 9.882135e-01,1.709860e+10,marker='+')\n",
        "plt.xscale('log')"
      ],
      "execution_count": 0,
      "outputs": [
        {
          "output_type": "display_data",
          "data": {
            "image/png": "[encoded data removed]",
            "text/plain": [
              "<Figure size 432x288 with 1 Axes>"
            ]
          },
          "metadata": {
            "tags": []
          }
        }
      ]
    },
    {
      "cell_type": "code",
      "metadata": {
        "id": "2yam94nuzJ-m",
        "colab_type": "code",
        "outputId": "341219fa-07df-42b6-ee50-bfa434ea4abd",
        "colab": {
          "base_uri": "https://localhost:8080/",
          "height": 282
        }
      },
      "source": [
        "plt.plot(df.V,np.log(df.P))"
      ],
      "execution_count": 0,
      "outputs": [
        {
          "output_type": "execute_result",
          "data": {
            "text/plain": [
              "[<matplotlib.lines.Line2D at 0x7f85e451a1d0>]"
            ]
          },
          "metadata": {
            "tags": []
          },
          "execution_count": 65
        },
        {
          "output_type": "display_data",
          "data": {
            "image/png": "[encoded data removed]",
            "text/plain": [
              "<Figure size 432x288 with 1 Axes>"
            ]
          },
          "metadata": {
            "tags": []
          }
        }
      ]
    },
    {
      "cell_type": "code",
      "metadata": {
        "id": "5urq1o9sBO91",
        "colab_type": "code",
        "outputId": "42cf993b-af25-407f-ceb2-3840ce0d7bbe",
        "colab": {
          "base_uri": "https://localhost:8080/",
          "height": 119
        }
      },
      "source": [
        "!pip install lmfit"
      ],
      "execution_count": 0,
      "outputs": [
        {
          "output_type": "stream",
          "text": [
            "Requirement already satisfied: lmfit in /usr/local/lib/python3.6/dist-packages (0.9.15)\n",
            "Requirement already satisfied: asteval>=0.9.16 in /usr/local/lib/python3.6/dist-packages (from lmfit) (0.9.17)\n",
            "Requirement already satisfied: uncertainties>=3.0.1 in /usr/local/lib/python3.6/dist-packages (from lmfit) (3.1.2)\n",
            "Requirement already satisfied: six>=1.11 in /usr/local/lib/python3.6/dist-packages (from lmfit) (1.12.0)\n",
            "Requirement already satisfied: scipy>=1.2 in /usr/local/lib/python3.6/dist-packages (from lmfit) (1.3.3)\n",
            "Requirement already satisfied: numpy>=1.16 in /usr/local/lib/python3.6/dist-packages (from lmfit) (1.17.4)\n"
          ],
          "name": "stdout"
        }
      ]
    },
    {
      "cell_type": "code",
      "metadata": {
        "id": "OvOqzPDCLW7f",
        "colab_type": "code",
        "outputId": "9d5e0db6-66be-4810-bc39-b74eaeee3ba5",
        "colab": {
          "base_uri": "https://localhost:8080/",
          "height": 34
        }
      },
      "source": [
        "! pip install numdifftools"
      ],
      "execution_count": 0,
      "outputs": [
        {
          "output_type": "stream",
          "text": [
            "Requirement already satisfied: numdifftools in /usr/local/lib/python3.6/dist-packages (0.9.39)\n"
          ],
          "name": "stdout"
        }
      ]
    },
    {
      "cell_type": "markdown",
      "metadata": {
        "id": "Q9F32PDqLfqk",
        "colab_type": "text"
      },
      "source": [
        "\n",
        "#Powell Method"
      ]
    },
    {
      "cell_type": "code",
      "metadata": {
        "id": "gttkArmxCTlY",
        "colab_type": "code",
        "colab": {}
      },
      "source": [
        "def JWL1(V,r1,r2,A,B,C):\n",
        "  #x1=A*(1-(0.5/(r1*V)))*(np.exp(-(r1*V)))\n",
        "  #x2=B*(1-(0.5/(r2*V)))*(np.exp(-(r2*V)))\n",
        "  #x3=C*(0.5*E)/V\n",
        "  #return x1+x2+x3\n",
        "  return A*(np.exp(-(r1*V)))+B*(np.exp(-(r2*V)))+C*V**(-1.5)"
      ],
      "execution_count": 0,
      "outputs": []
    },
    {
      "cell_type": "code",
      "metadata": {
        "id": "73uy4oNbGFz0",
        "colab_type": "code",
        "colab": {}
      },
      "source": [
        ""
      ],
      "execution_count": 0,
      "outputs": []
    },
    {
      "cell_type": "code",
      "metadata": {
        "id": "TVCtth6ez3Vm",
        "colab_type": "code",
        "outputId": "6dd54b65-fddc-45f0-c9f6-7069aa537fd7",
        "colab": {
          "base_uri": "https://localhost:8080/",
          "height": 493
        }
      },
      "source": [
        "from lmfit import Model\n",
        "gmodel = Model(JWL1,independent_vars=['V'])\n",
        "params = gmodel.make_params(r1=10,r2=10,A=1,B=2,C=1)\n",
        "result = gmodel.fit((df.P),params,V=df.V,nan_policy='omit',method='powell')\n",
        "\n",
        "print(result.fit_report())\n"
      ],
      "execution_count": 0,
      "outputs": [
        {
          "output_type": "stream",
          "text": [
            "[[Model]]\n",
            "    Model(JWL1)\n",
            "[[Fit Statistics]]\n",
            "    # fitting method   = Powell\n",
            "    # function evals   = 1696\n",
            "    # data points      = 20\n",
            "    # variables        = 5\n",
            "    chi-square         = 1.0851e+19\n",
            "    reduced chi-square = 7.2343e+17\n",
            "    Akaike info crit   = 826.701989\n",
            "    Bayesian info crit = 831.680650\n",
            "##  Warning: uncertainties could not be estimated:\n",
            "[[Variables]]\n",
            "    r1:  8.19919450 +/- 0.14129066 (1.72%) (init = 10)\n",
            "    r2:  5.39203405 +/- 0.14483971 (2.69%) (init = 10)\n",
            "    A:   4.0367e+12 +/-        nan (nan%) (init = 1)\n",
            "    B:   8.0986e+11 +/- 10849446.3 (0.00%) (init = 2)\n",
            "    C:   1.0828e+10 +/- 3.8931e+08 (3.60%) (init = 1)\n",
            "[[Correlations]] (unreported correlations are < 0.100)\n",
            "    C(r1, r2) = -0.944\n",
            "    C(r2, C)  =  0.583\n",
            "    C(r1, C)  = -0.310\n",
            "    C(B, C)   =  0.246\n",
            "    C(r2, B)  =  0.143\n"
          ],
          "name": "stdout"
        },
        {
          "output_type": "stream",
          "text": [
            "/usr/local/lib/python3.6/dist-packages/lmfit/minimizer.py:787: RuntimeWarning: invalid value encountered in sqrt\n",
            "  (par.stderr * sqrt(self.result.covar[jvar, jvar])))\n",
            "/usr/local/lib/python3.6/dist-packages/lmfit/minimizer.py:780: RuntimeWarning: invalid value encountered in sqrt\n",
            "  par.stderr = sqrt(self.result.covar[ivar, ivar])\n"
          ],
          "name": "stderr"
        }
      ]
    },
    {
      "cell_type": "code",
      "metadata": {
        "id": "1eb2KogYMLTQ",
        "colab_type": "code",
        "outputId": "2ac25583-4d7b-480d-de67-408f9776e9dd",
        "colab": {
          "base_uri": "https://localhost:8080/",
          "height": 374
        }
      },
      "source": [
        "JWL1(df.V,8.19919450,5.39203405\t,4.0367e+12 ,8.0986e+11,1.0828e+10)"
      ],
      "execution_count": 0,
      "outputs": [
        {
          "output_type": "execute_result",
          "data": {
            "text/plain": [
              "19    1.035012e+11\n",
              "18    9.116692e+10\n",
              "17    7.967063e+10\n",
              "16    6.953870e+10\n",
              "15    6.032779e+10\n",
              "14    5.216320e+10\n",
              "13    4.499176e+10\n",
              "12    3.874408e+10\n",
              "0     1.617345e+10\n",
              "1     7.224962e+09\n",
              "2     5.523622e+09\n",
              "3     3.152701e+09\n",
              "4     2.106597e+09\n",
              "5     1.381896e+09\n",
              "6     1.028265e+09\n",
              "7     6.436246e+08\n",
              "8     3.932274e+08\n",
              "9     2.324321e+08\n",
              "10    1.328988e+08\n",
              "11    7.352532e+07\n",
              "Name: V, dtype: float64"
            ]
          },
          "metadata": {
            "tags": []
          },
          "execution_count": 17
        }
      ]
    },
    {
      "cell_type": "code",
      "metadata": {
        "id": "AUwH2MShEWfd",
        "colab_type": "code",
        "outputId": "bdfb3103-8f61-4101-af13-069aa3cd71f1",
        "colab": {
          "base_uri": "https://localhost:8080/",
          "height": 265
        }
      },
      "source": [
        "plt.scatter(df.V,JWL1(df.V,8.19919450,5.39203405\t,4.0367e+12 ,8.0986e+11,1.0828e+10))\n",
        "plt.plot(df.V,JWL1(df.V,8.19919450,5.39203405\t,4.0367e+12 ,8.0986e+11,1.0828e+10),color='red')\n",
        "plt.plot(df.V,(df.P))\n",
        "plt.scatter(df.V,(df.P))\n",
        "plt.scatter( 9.882135e-01,(1.709860e+10),marker='+')\n",
        "plt.yscale('log')\n",
        "#plt.xscale('log')"
      ],
      "execution_count": 0,
      "outputs": [
        {
          "output_type": "display_data",
          "data": {
            "image/png": "[encoded data removed]",
            "text/plain": [
              "<Figure size 432x288 with 1 Axes>"
            ]
          },
          "metadata": {
            "tags": []
          }
        }
      ]
    },
    {
      "cell_type": "markdown",
      "metadata": {
        "id": "rWs3AySCgvBh",
        "colab_type": "text"
      },
      "source": [
        "# Nelders Method"
      ]
    },
    {
      "cell_type": "code",
      "metadata": {
        "id": "RwyIcrNDf8pm",
        "colab_type": "code",
        "colab": {}
      },
      "source": [
        "from lmfit import Model\n",
        "from lmfit import minimize\n",
        "import lmfit"
      ],
      "execution_count": 0,
      "outputs": []
    },
    {
      "cell_type": "code",
      "metadata": {
        "id": "GGwcPq-GgA3C",
        "colab_type": "code",
        "colab": {}
      },
      "source": [
        "p = lmfit.Parameters()\n",
        "\n",
        "p.add_many(('r1', 4), ('r2', 4), ('A', 3), ('B', 3),('C',3))\n",
        "P=df.P"
      ],
      "execution_count": 0,
      "outputs": []
    },
    {
      "cell_type": "code",
      "metadata": {
        "id": "VzknBjV7d6vE",
        "colab_type": "code",
        "colab": {}
      },
      "source": [
        "def residual(p):\n",
        "  A=p['A']\n",
        "  r1=p['r1']\n",
        "  r2=p['r2']\n",
        "  B=p['B']\n",
        "  C=p['C']\n",
        "  #x1=A*(1-(0.5/(r1*V)))*(np.exp(-(r1*V)))\n",
        "  #x2=B*(1-(0.5/(r2*V)))*(np.exp(-(r2*V)))\n",
        "  #x3=C*(0.5*E)/V\n",
        "  #return x1+x2+x3-P\n",
        "  return A*(np.exp(-(r1*V)))+B*(np.exp(-(r2*V)))+C*V**(-1.5)-P"
      ],
      "execution_count": 0,
      "outputs": []
    },
    {
      "cell_type": "code",
      "metadata": {
        "id": "v57exG1_DABG",
        "colab_type": "code",
        "outputId": "32d52c6a-56fc-4b99-de98-62850b2a3e1e",
        "colab": {
          "base_uri": "https://localhost:8080/",
          "height": 756
        }
      },
      "source": [
        "\n",
        "mi = lmfit.minimize(residual, p, method='nelder', nan_policy='omit')\n",
        "print(lmfit.report_fit(mi.params))\n",
        "print(JWL1(df[['V']],7.3380e+09,79977603.7\t,-4.5054e+10,2.1151e+09,3.4676e+10 ))\n",
        "plt.scatter(df.V,(JWL1(df[['V']],7.3380e+09,79977603.7\t,-4.5054e+10,2.1151e+09,3.4676e+10 )))\n",
        "plt.plot(df.V, (JWL1(df[['V']],7.3380e+09,79977603.7\t,-4.5054e+10,2.1151e+09,3.4676e+10 )),color='red')\n",
        "plt.plot(df.V,(df.P))\n",
        "plt.scatter(df.V,(df.P))\n",
        "plt.scatter( 9.882135e-01,(1.709860e+10),marker='*',s=10)\n",
        "#plt.yscale('log')\n",
        "plt.xscale('log')"
      ],
      "execution_count": 0,
      "outputs": [
        {
          "output_type": "stream",
          "text": [
            "[[Variables]]\n",
            "    r1:  7.3380e+09 (init = 4)\n",
            "    r2:  79977603.7 (init = 4)\n",
            "    A:  -4.5054e+10 (init = 3)\n",
            "    B:   2.1151e+09 (init = 3)\n",
            "    C:   3.4676e+10 (init = 3)\n",
            "None\n",
            "               V\n",
            "19  8.173688e+10\n",
            "18  7.714631e+10\n",
            "17  7.261671e+10\n",
            "16  6.836651e+10\n",
            "15  6.423008e+10\n",
            "14  6.027958e+10\n",
            "13  5.651895e+10\n",
            "12  5.294798e+10\n",
            "0   3.529822e+10\n",
            "1   2.143843e+10\n",
            "2   1.718902e+10\n",
            "3   1.008423e+10\n",
            "4   6.745970e+09\n",
            "5   4.425434e+09\n",
            "6   3.292956e+09\n",
            "7   2.061168e+09\n",
            "8   1.259286e+09\n",
            "9   7.443493e+08\n",
            "10  4.256003e+08\n",
            "11  2.354603e+08\n"
          ],
          "name": "stdout"
        },
        {
          "output_type": "display_data",
          "data": {
            "image/png": "[encoded data removed]",
            "text/plain": [
              "<Figure size 432x288 with 1 Axes>"
            ]
          },
          "metadata": {
            "tags": []
          }
        }
      ]
    },
    {
      "cell_type": "markdown",
      "metadata": {
        "id": "Gnw6lev2k0j7",
        "colab_type": "text"
      },
      "source": [
        "# COBYLA METHOD"
      ]
    },
    {
      "cell_type": "code",
      "metadata": {
        "id": "ZBrEuyXfeR5O",
        "colab_type": "code",
        "outputId": "00a94141-f1cb-4d30-918e-2df6dce04a53",
        "colab": {
          "base_uri": "https://localhost:8080/",
          "height": 569
        }
      },
      "source": [
        "\n",
        "mi = lmfit.minimize(residual, p, method='cobyla', nan_policy='omit')\n",
        "mi"
      ],
      "execution_count": 0,
      "outputs": [
        {
          "output_type": "stream",
          "text": [
            "/usr/local/lib/python3.6/dist-packages/lmfit/minimizer.py:787: RuntimeWarning: invalid value encountered in sqrt\n",
            "  (par.stderr * sqrt(self.result.covar[jvar, jvar])))\n",
            "/usr/local/lib/python3.6/dist-packages/lmfit/minimizer.py:780: RuntimeWarning: invalid value encountered in sqrt\n",
            "  par.stderr = sqrt(self.result.covar[ivar, ivar])\n"
          ],
          "name": "stderr"
        },
        {
          "output_type": "execute_result",
          "data": {
            "text/html": [
              "<h2>Fit Statistics</h2><table><tr><td>fitting method</td><td>COBYLA</td><td></td></tr><tr><td># function evals</td><td>149</td><td></td></tr><tr><td># data points</td><td>20</td><td></td></tr><tr><td># variables</td><td>5</td><td></td></tr><tr><td>chi-square</td><td> 4.0470e+22</td><td></td></tr><tr><td>reduced chi-square</td><td> 2.6980e+21</td><td></td></tr><tr><td>Akaike info crit.</td><td> 991.182310</td><td></td></tr><tr><td>Bayesian info crit.</td><td> 996.160972</td><td></td></tr></table><h2>Variables</h2><table><tr><th> name </th><th> value </th><th> standard error </th><th> relative error </th><th> initial value </th><th> min </th><th> max </th><th> vary </th></tr><tr><td> r1 </td><td> -0.50318981 </td><td>  2190.03900 </td><td> (435231.19%) </td><td> 4 </td><td>        -inf </td><td>         inf </td><td> True </td></tr><tr><td> r2 </td><td>  0.66360184 </td><td>  531.174189 </td><td> (80044.11%) </td><td> 4 </td><td>        -inf </td><td>         inf </td><td> True </td></tr><tr><td> A </td><td>  6.81496808 </td><td>  417085.660 </td><td> (6120141.07%) </td><td> 3 </td><td>        -inf </td><td>         inf </td><td> True </td></tr><tr><td> B </td><td>  4.21657768 </td><td>  180140.138 </td><td> (4272188.29%) </td><td> 3 </td><td>        -inf </td><td>         inf </td><td> True </td></tr><tr><td> C </td><td>  46.6390428 </td><td>         nan </td><td> (nan%) </td><td> 3 </td><td>        -inf </td><td>         inf </td><td> True </td></tr></table><h2>Correlations (unreported correlations are < 0.100)</h2><table><tr><td>r2</td><td>B</td><td>116.6456</td></tr><tr><td>r1</td><td>A</td><td>0.9950</td></tr></table>"
            ],
            "text/plain": [
              "<lmfit.minimizer.MinimizerResult at 0x7f85fc279a58>"
            ]
          },
          "metadata": {
            "tags": []
          },
          "execution_count": 23
        }
      ]
    },
    {
      "cell_type": "code",
      "metadata": {
        "id": "8la5DpmxjRyE",
        "colab_type": "code",
        "outputId": "0be55fda-a7d0-4d05-e56c-4b15ad52cf0a",
        "colab": {
          "base_uri": "https://localhost:8080/",
          "height": 637
        }
      },
      "source": [
        "print(JWL1(df[['V']],-0.50318981,0.66360184\t,6.81496808\t,4.21657768,46.6604928))\n",
        "y=JWL1(df[['V']],-0.50318981,0.66360184\t,6.81496808\t,4.21657768,46.6604928)\n",
        "plt.scatter(df.V,y)\n",
        "plt.plot(df.V, y,color='red')\n",
        "plt.plot(df.V,(df.P))\n",
        "plt.scatter(df.V,(df.P))\n",
        "plt.scatter( 9.882135e-01,(1.709860e+10),marker='+')\n",
        "#plt.yscale('log')\n",
        "plt.xscale('log')"
      ],
      "execution_count": 0,
      "outputs": [
        {
          "output_type": "stream",
          "text": [
            "               V\n",
            "19  1.219393e+02\n",
            "18  1.158215e+02\n",
            "17  1.097929e+02\n",
            "16  1.041451e+02\n",
            "15  9.865837e+01\n",
            "14  9.342956e+01\n",
            "13  8.846461e+01\n",
            "12  8.376405e+01\n",
            "0   6.089155e+01\n",
            "1   4.417045e+01\n",
            "2   3.980963e+01\n",
            "3   3.594415e+01\n",
            "4   4.016530e+01\n",
            "5   5.587357e+01\n",
            "6   8.105125e+01\n",
            "7   1.882960e+02\n",
            "8   6.719164e+02\n",
            "9   4.601431e+03\n",
            "10  8.720806e+04\n",
            "11  8.467635e+06\n"
          ],
          "name": "stdout"
        },
        {
          "output_type": "display_data",
          "data": {
            "image/png": "[encoded data removed]",
            "text/plain": [
              "<Figure size 432x288 with 1 Axes>"
            ]
          },
          "metadata": {
            "tags": []
          }
        }
      ]
    },
    {
      "cell_type": "code",
      "metadata": {
        "id": "HZZnjqNu2QbV",
        "colab_type": "code",
        "colab": {}
      },
      "source": [
        "from scipy import optimize"
      ],
      "execution_count": 0,
      "outputs": []
    },
    {
      "cell_type": "code",
      "metadata": {
        "id": "eoZ4MY5zCFm_",
        "colab_type": "code",
        "outputId": "f7d7d7a8-f5c8-4163-e16b-2c1550833b2f",
        "colab": {
          "base_uri": "https://localhost:8080/",
          "height": 391
        }
      },
      "source": [
        "from lmfit import Model\n",
        "gmodel = Model(JWL1,independent_vars=['V'])\n",
        "params = gmodel.make_params(r1=10,r2=10,A=1,B=2,C=1)\n",
        "result = gmodel.fit((df.P).values,params,V=df[['V']].values,nan_policy='omit',method='cobyla')\n",
        "\n",
        "print(result.fit_report())\n"
      ],
      "execution_count": 0,
      "outputs": [
        {
          "output_type": "stream",
          "text": [
            "[[Model]]\n",
            "    Model(JWL1)\n",
            "[[Fit Statistics]]\n",
            "    # fitting method   = COBYLA\n",
            "    # function evals   = 1655\n",
            "    # data points      = 400\n",
            "    # variables        = 5\n",
            "    chi-square         = 7.9290e+23\n",
            "    reduced chi-square = 2.0073e+21\n",
            "    Akaike info crit   = 19625.4088\n",
            "    Bayesian info crit = 19645.3661\n",
            "##  Warning: uncertainties could not be estimated:\n",
            "[[Variables]]\n",
            "    r1:  0.84412440 +/-        nan (nan%) (init = 10)\n",
            "    r2: -0.79974279 +/-        nan (nan%) (init = 10)\n",
            "    A:   3.13041243 +/-        nan (nan%) (init = 1)\n",
            "    B:   5.93362416 +/-        nan (nan%) (init = 2)\n",
            "    C:   1588.79180 +/-        nan (nan%) (init = 1)\n"
          ],
          "name": "stdout"
        },
        {
          "output_type": "stream",
          "text": [
            "/usr/local/lib/python3.6/dist-packages/lmfit/minimizer.py:780: RuntimeWarning: invalid value encountered in sqrt\n",
            "  par.stderr = sqrt(self.result.covar[ivar, ivar])\n",
            "/usr/local/lib/python3.6/dist-packages/lmfit/minimizer.py:787: RuntimeWarning: invalid value encountered in sqrt\n",
            "  (par.stderr * sqrt(self.result.covar[jvar, jvar])))\n"
          ],
          "name": "stderr"
        }
      ]
    },
    {
      "cell_type": "code",
      "metadata": {
        "id": "WtCX7TGj4JFt",
        "colab_type": "code",
        "outputId": "8f2b6155-62fa-40f0-b452-c6148b2e6146",
        "colab": {
          "base_uri": "https://localhost:8080/",
          "height": 280
        }
      },
      "source": [
        "y=JWL1(df[['V']],0.84412440 , -0.79974279\t,3.13041243\t,5.93362416 ,1588.83272 )\n",
        "plt.scatter(df.V,y)\n",
        "plt.plot(df.V, y,color='red')\n",
        "plt.plot(df.V,(df.P))\n",
        "plt.scatter(df.V,(df.P))\n",
        "plt.scatter( 9.882135e-01,(1.709860e+10),marker='+')\n",
        "#plt.yscale('log')\n",
        "plt.xscale('log')"
      ],
      "execution_count": 0,
      "outputs": [
        {
          "output_type": "display_data",
          "data": {
            "image/png": "[encoded data removed]",
            "text/plain": [
              "<Figure size 432x288 with 1 Axes>"
            ]
          },
          "metadata": {
            "tags": []
          }
        }
      ]
    },
    {
      "cell_type": "code",
      "metadata": {
        "id": "kPsxZdxT4_dE",
        "colab_type": "code",
        "outputId": "949a4ce5-d2e9-4251-a947-96619692b365",
        "colab": {
          "base_uri": "https://localhost:8080/",
          "height": 34
        }
      },
      "source": [
        "!pip install numdifftools"
      ],
      "execution_count": 0,
      "outputs": [
        {
          "output_type": "stream",
          "text": [
            "Requirement already satisfied: numdifftools in /usr/local/lib/python3.6/dist-packages (0.9.39)\n"
          ],
          "name": "stdout"
        }
      ]
    },
    {
      "cell_type": "code",
      "metadata": {
        "id": "fC3AVRtM3MqM",
        "colab_type": "code",
        "colab": {}
      },
      "source": [
        "import numpy as np\n",
        "from scipy.optimize import minimize\n",
        "from numdifftools import Jacobian, Hessian\n",
        "import scipy\n",
        "from scipy import optimize"
      ],
      "execution_count": 0,
      "outputs": []
    },
    {
      "cell_type": "code",
      "metadata": {
        "id": "TIuy4hQJDAZJ",
        "colab_type": "code",
        "colab": {}
      },
      "source": [
        "P=df.P"
      ],
      "execution_count": 0,
      "outputs": []
    },
    {
      "cell_type": "code",
      "metadata": {
        "colab_type": "code",
        "outputId": "e95eabe7-e1e3-4bf9-f120-58773d6fb6d7",
        "id": "lkMbDI-iHxZx",
        "colab": {
          "base_uri": "https://localhost:8080/",
          "height": 34
        }
      },
      "source": [
        "P.shape"
      ],
      "execution_count": 0,
      "outputs": [
        {
          "output_type": "execute_result",
          "data": {
            "text/plain": [
              "(20,)"
            ]
          },
          "metadata": {
            "tags": []
          },
          "execution_count": 79
        }
      ]
    },
    {
      "cell_type": "code",
      "metadata": {
        "colab_type": "code",
        "id": "FfKBXKokHva-",
        "colab": {}
      },
      "source": [
        "def residual(x):\n",
        "  #x1=A*(1-(0.5/(r1*V)))*(np.exp(-(r1*V)))\n",
        "  #x2=B*(1-(0.5/(r2*V)))*(np.exp(-(r2*V)))\n",
        "  #x3=C*(0.5*E)/V\n",
        "  #return x1+x2+x3-P\n",
        "  r1=x[0]\n",
        "  r2=x[1]\n",
        "  A=x[2]\n",
        "  B=x[3]\n",
        "  C=x[4]\n",
        "  return sum(A*(np.exp(-(r1*V)))+B*(np.exp(-(r2*V)))+C*V**(-1.5)-P)\n",
        "r1= np.arange(-50, 50)\n",
        "r2= np.arange(-50, 50)\n",
        "A= np.arange( -1000,1000)\n",
        "\n",
        "B= np.arange(-1000,1000)\n",
        "C= np.arange(-1000,1000)\n",
        "x0=np.array([1,1,1,1,1])\n",
        "root = optimize.newton(residual,x0)"
      ],
      "execution_count": 0,
      "outputs": []
    },
    {
      "cell_type": "code",
      "metadata": {
        "id": "YK1fh25-Vtyf",
        "colab_type": "code",
        "outputId": "9a6da7b9-c12d-4b2b-d0a9-ddba627e8446",
        "colab": {
          "base_uri": "https://localhost:8080/",
          "height": 306
        }
      },
      "source": [
        "root = optimize.root_scalar(residual,bracket=[[0,1],[0,1],[0,400],[0,400],[0,400]], method='brentq')"
      ],
      "execution_count": 0,
      "outputs": [
        {
          "output_type": "error",
          "ename": "RuntimeError",
          "evalue": "ignored",
          "traceback": [
            "\u001b[0;31m---------------------------------------------------------------------------\u001b[0m",
            "\u001b[0;31mRuntimeError\u001b[0m                              Traceback (most recent call last)",
            "\u001b[0;32m<ipython-input-161-a6140891f3a2>\u001b[0m in \u001b[0;36m<module>\u001b[0;34m()\u001b[0m\n\u001b[0;32m----> 1\u001b[0;31m \u001b[0mroot\u001b[0m \u001b[0;34m=\u001b[0m \u001b[0moptimize\u001b[0m\u001b[0;34m.\u001b[0m\u001b[0mroot_scalar\u001b[0m\u001b[0;34m(\u001b[0m\u001b[0mresidual\u001b[0m\u001b[0;34m,\u001b[0m\u001b[0mbracket\u001b[0m\u001b[0;34m=\u001b[0m\u001b[0;34m[\u001b[0m\u001b[0;34m[\u001b[0m\u001b[0;36m0\u001b[0m\u001b[0;34m,\u001b[0m\u001b[0;36m1\u001b[0m\u001b[0;34m]\u001b[0m\u001b[0;34m,\u001b[0m\u001b[0;34m[\u001b[0m\u001b[0;36m0\u001b[0m\u001b[0;34m,\u001b[0m\u001b[0;36m1\u001b[0m\u001b[0;34m]\u001b[0m\u001b[0;34m,\u001b[0m\u001b[0;34m[\u001b[0m\u001b[0;36m0\u001b[0m\u001b[0;34m,\u001b[0m\u001b[0;36m400\u001b[0m\u001b[0;34m]\u001b[0m\u001b[0;34m,\u001b[0m\u001b[0;34m[\u001b[0m\u001b[0;36m0\u001b[0m\u001b[0;34m,\u001b[0m\u001b[0;36m400\u001b[0m\u001b[0;34m]\u001b[0m\u001b[0;34m,\u001b[0m\u001b[0;34m[\u001b[0m\u001b[0;36m0\u001b[0m\u001b[0;34m,\u001b[0m\u001b[0;36m400\u001b[0m\u001b[0;34m]\u001b[0m\u001b[0;34m]\u001b[0m\u001b[0;34m,\u001b[0m \u001b[0mmethod\u001b[0m\u001b[0;34m=\u001b[0m\u001b[0;34m'brentq'\u001b[0m\u001b[0;34m)\u001b[0m\u001b[0;34m\u001b[0m\u001b[0;34m\u001b[0m\u001b[0m\n\u001b[0m",
            "\u001b[0;32m/usr/local/lib/python3.6/dist-packages/scipy/optimize/_root_scalar.py\u001b[0m in \u001b[0;36mroot_scalar\u001b[0;34m(f, args, method, bracket, fprime, fprime2, x0, x1, xtol, rtol, maxiter, options)\u001b[0m\n\u001b[1;32m    247\u001b[0m \u001b[0;34m\u001b[0m\u001b[0m\n\u001b[1;32m    248\u001b[0m         \u001b[0ma\u001b[0m\u001b[0;34m,\u001b[0m \u001b[0mb\u001b[0m \u001b[0;34m=\u001b[0m \u001b[0mbracket\u001b[0m\u001b[0;34m[\u001b[0m\u001b[0;34m:\u001b[0m\u001b[0;36m2\u001b[0m\u001b[0;34m]\u001b[0m\u001b[0;34m\u001b[0m\u001b[0;34m\u001b[0m\u001b[0m\n\u001b[0;32m--> 249\u001b[0;31m         \u001b[0mr\u001b[0m\u001b[0;34m,\u001b[0m \u001b[0msol\u001b[0m \u001b[0;34m=\u001b[0m \u001b[0mmethodc\u001b[0m\u001b[0;34m(\u001b[0m\u001b[0mf\u001b[0m\u001b[0;34m,\u001b[0m \u001b[0ma\u001b[0m\u001b[0;34m,\u001b[0m \u001b[0mb\u001b[0m\u001b[0;34m,\u001b[0m \u001b[0margs\u001b[0m\u001b[0;34m=\u001b[0m\u001b[0margs\u001b[0m\u001b[0;34m,\u001b[0m \u001b[0;34m**\u001b[0m\u001b[0mkwargs\u001b[0m\u001b[0;34m)\u001b[0m\u001b[0;34m\u001b[0m\u001b[0;34m\u001b[0m\u001b[0m\n\u001b[0m\u001b[1;32m    250\u001b[0m     \u001b[0;32melif\u001b[0m \u001b[0mmeth\u001b[0m \u001b[0;32min\u001b[0m \u001b[0;34m[\u001b[0m\u001b[0;34m'secant'\u001b[0m\u001b[0;34m]\u001b[0m\u001b[0;34m:\u001b[0m\u001b[0;34m\u001b[0m\u001b[0;34m\u001b[0m\u001b[0m\n\u001b[1;32m    251\u001b[0m         \u001b[0;32mif\u001b[0m \u001b[0mx0\u001b[0m \u001b[0;32mis\u001b[0m \u001b[0;32mNone\u001b[0m\u001b[0;34m:\u001b[0m\u001b[0;34m\u001b[0m\u001b[0;34m\u001b[0m\u001b[0m\n",
            "\u001b[0;32m/usr/local/lib/python3.6/dist-packages/scipy/optimize/zeros.py\u001b[0m in \u001b[0;36mbrentq\u001b[0;34m(f, a, b, args, xtol, rtol, maxiter, full_output, disp)\u001b[0m\n\u001b[1;32m    773\u001b[0m     \u001b[0;32mif\u001b[0m \u001b[0mrtol\u001b[0m \u001b[0;34m<\u001b[0m \u001b[0m_rtol\u001b[0m\u001b[0;34m:\u001b[0m\u001b[0;34m\u001b[0m\u001b[0;34m\u001b[0m\u001b[0m\n\u001b[1;32m    774\u001b[0m         \u001b[0;32mraise\u001b[0m \u001b[0mValueError\u001b[0m\u001b[0;34m(\u001b[0m\u001b[0;34m\"rtol too small (%g < %g)\"\u001b[0m \u001b[0;34m%\u001b[0m \u001b[0;34m(\u001b[0m\u001b[0mrtol\u001b[0m\u001b[0;34m,\u001b[0m \u001b[0m_rtol\u001b[0m\u001b[0;34m)\u001b[0m\u001b[0;34m)\u001b[0m\u001b[0;34m\u001b[0m\u001b[0;34m\u001b[0m\u001b[0m\n\u001b[0;32m--> 775\u001b[0;31m     \u001b[0mr\u001b[0m \u001b[0;34m=\u001b[0m \u001b[0m_zeros\u001b[0m\u001b[0;34m.\u001b[0m\u001b[0m_brentq\u001b[0m\u001b[0;34m(\u001b[0m\u001b[0mf\u001b[0m\u001b[0;34m,\u001b[0m \u001b[0ma\u001b[0m\u001b[0;34m,\u001b[0m \u001b[0mb\u001b[0m\u001b[0;34m,\u001b[0m \u001b[0mxtol\u001b[0m\u001b[0;34m,\u001b[0m \u001b[0mrtol\u001b[0m\u001b[0;34m,\u001b[0m \u001b[0mmaxiter\u001b[0m\u001b[0;34m,\u001b[0m \u001b[0margs\u001b[0m\u001b[0;34m,\u001b[0m \u001b[0mfull_output\u001b[0m\u001b[0;34m,\u001b[0m \u001b[0mdisp\u001b[0m\u001b[0;34m)\u001b[0m\u001b[0;34m\u001b[0m\u001b[0;34m\u001b[0m\u001b[0m\n\u001b[0m\u001b[1;32m    776\u001b[0m     \u001b[0;32mreturn\u001b[0m \u001b[0mresults_c\u001b[0m\u001b[0;34m(\u001b[0m\u001b[0mfull_output\u001b[0m\u001b[0;34m,\u001b[0m \u001b[0mr\u001b[0m\u001b[0;34m)\u001b[0m\u001b[0;34m\u001b[0m\u001b[0;34m\u001b[0m\u001b[0m\n\u001b[1;32m    777\u001b[0m \u001b[0;34m\u001b[0m\u001b[0m\n",
            "\u001b[0;31mRuntimeError\u001b[0m: Unable to parse arguments"
          ]
        }
      ]
    },
    {
      "cell_type": "code",
      "metadata": {
        "id": "nAGIQDpuE4ob",
        "colab_type": "code",
        "outputId": "f0a5903b-fee2-4aac-c51a-d171ffdeec57",
        "colab": {
          "base_uri": "https://localhost:8080/",
          "height": 51
        }
      },
      "source": [
        "root"
      ],
      "execution_count": 0,
      "outputs": [
        {
          "output_type": "execute_result",
          "data": {
            "text/plain": [
              "array([16797.19354597, 16797.19354597, 66692.81794072,   830.5937399 ,\n",
              "       16797.19354597])"
            ]
          },
          "metadata": {
            "tags": []
          },
          "execution_count": 107
        }
      ]
    },
    {
      "cell_type": "code",
      "metadata": {
        "id": "5YmqSbQgJ7SI",
        "colab_type": "code",
        "outputId": "e976501c-aa17-4057-b935-991d6091db1f",
        "colab": {
          "base_uri": "https://localhost:8080/",
          "height": 280
        }
      },
      "source": [
        "plt.scatter(df.V,(JWL(V, *root)))\n",
        "plt.plot(df.V, (JWL(V, *root)))\n",
        "plt.plot(df.V,(df.P))\n",
        "plt.scatter(df.V,(df.P))\n",
        "plt.scatter( 9.882135e-01,1.709860e+10,marker='+')\n",
        "plt.xscale('log')"
      ],
      "execution_count": 0,
      "outputs": [
        {
          "output_type": "display_data",
          "data": {
            "image/png": "[encoded data removed]",
            "text/plain": [
              "<Figure size 432x288 with 1 Axes>"
            ]
          },
          "metadata": {
            "tags": []
          }
        }
      ]
    },
    {
      "cell_type": "code",
      "metadata": {
        "id": "2AO7bgE6VMrg",
        "colab_type": "code",
        "outputId": "16a70d91-3e77-4340-d885-86313fe8e329",
        "colab": {
          "base_uri": "https://localhost:8080/",
          "height": 102
        }
      },
      "source": [
        "s1=[ [1.709860e+10, 9.882135e-01],\n",
        "  [4.274650e+09, 1.596560e+00 ],\n",
        "[2.671656e+08, 4.804284e+00],\n",
        "  [4.522579e+10, 7.220323e-01],\n",
        "  [5.981111e+10, 6.630206e-01],]\n",
        "df1=pd.DataFrame(s1)\n",
        "df1.columns=['P','V']\n",
        "V=df1.V\n",
        "P=df1.P\n",
        "from scipy.optimize import fsolve\n",
        "import math\n",
        "\n",
        "def residual1(x):\n",
        "  r1,r2,A,B,C=x\n",
        "  return (A*(np.exp(-(r1*V)))+B*(np.exp(-(r2*V)))+C*V**(-1.5)-P)\n",
        "result=fsolve(residual1, (1,1,1,1,1))\n",
        "result"
      ],
      "execution_count": 0,
      "outputs": [
        {
          "output_type": "stream",
          "text": [
            "/usr/local/lib/python3.6/dist-packages/scipy/optimize/minpack.py:162: RuntimeWarning: The iteration is not making good progress, as measured by the \n",
            "  improvement from the last ten iterations.\n",
            "  warnings.warn(msg, RuntimeWarning)\n"
          ],
          "name": "stderr"
        },
        {
          "output_type": "execute_result",
          "data": {
            "text/plain": [
              "array([12682.85905536,  3171.4647635 ,   199.15402914, 33544.51201113,\n",
              "       44362.29665624])"
            ]
          },
          "metadata": {
            "tags": []
          },
          "execution_count": 157
        }
      ]
    },
    {
      "cell_type": "code",
      "metadata": {
        "id": "DKnRT_kgYJ79",
        "colab_type": "code",
        "outputId": "5b2ada80-be2e-470e-b538-f012dc91d260",
        "colab": {
          "base_uri": "https://localhost:8080/",
          "height": 637
        }
      },
      "source": [
        "print(JWL1(df[['V']],*result))\n",
        "y=JWL1(df[['V']],*result)\n",
        "plt.scatter(df.V,y)\n",
        "plt.plot(df.V, y,color='red')\n",
        "plt.plot(df.V,(df.P))\n",
        "plt.scatter(df.V,(df.P))\n",
        "plt.scatter( 9.882135e-01,(1.709860e+10),marker='+')\n",
        "#plt.yscale('log')\n",
        "plt.xscale('log')"
      ],
      "execution_count": 0,
      "outputs": [
        {
          "output_type": "stream",
          "text": [
            "                V\n",
            "19  104569.024621\n",
            "18   98696.142629\n",
            "17   92901.263138\n",
            "16   87463.821876\n",
            "15   82171.930189\n",
            "14   77117.910264\n",
            "13   72306.790119\n",
            "12   67738.319085\n",
            "0    45158.327403\n",
            "1    27426.981651\n",
            "2    21990.553225\n",
            "3    12901.136375\n",
            "4     8630.370211\n",
            "5     5661.621975\n",
            "6     4212.801663\n",
            "7     2636.928914\n",
            "8     1611.051997\n",
            "9      952.273742\n",
            "10     544.486255\n",
            "11     301.233095\n"
          ],
          "name": "stdout"
        },
        {
          "output_type": "display_data",
          "data": {
            "image/png": "[encoded data removed]",
            "text/plain": [
              "<Figure size 432x288 with 1 Axes>"
            ]
          },
          "metadata": {
            "tags": []
          }
        }
      ]
    },
    {
      "cell_type": "code",
      "metadata": {
        "id": "zEzJRnNFuUuy",
        "colab_type": "code",
        "outputId": "7133ca0c-30f2-4b44-c1c9-2fd62c749a11",
        "colab": {
          "base_uri": "https://localhost:8080/",
          "height": 68
        }
      },
      "source": [
        "import sympy as sp\n",
        "In [2]: x, y, z = sp.symbols('x, y, z')\n",
        "In [3]: rho, sigma, beta = sp.symbols('rho, sigma, beta')\n",
        "In [4]: f1 = sigma * (y - x)\n",
        "In [5]: f2 = x * (rho - z) - y\n",
        "In [6]: f3 = x * y - beta * z\n",
        "In [7]: sp.solvers.solve((f1, f2, f3), (x, y, z))"
      ],
      "execution_count": 0,
      "outputs": [
        {
          "output_type": "execute_result",
          "data": {
            "text/plain": [
              "[(0, 0, 0),\n",
              " (-sqrt(beta*rho - beta), -sqrt(beta*(rho - 1)), rho - 1),\n",
              " (sqrt(beta*rho - beta), sqrt(beta*(rho - 1)), rho - 1)]"
            ]
          },
          "metadata": {
            "tags": []
          },
          "execution_count": 155
        }
      ]
    },
    {
      "cell_type": "code",
      "metadata": {
        "id": "uNvYSbs9zx07",
        "colab_type": "code",
        "colab": {}
      },
      "source": [
        ""
      ],
      "execution_count": 0,
      "outputs": []
    }
  ]
}