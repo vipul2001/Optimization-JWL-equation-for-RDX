{
  "nbformat": 4,
  "nbformat_minor": 0,
  "metadata": {
    "colab": {
      "name": "Untitled51.ipynb",
      "provenance": [],
      "collapsed_sections": [],
      "machine_shape": "hm"
    },
    "kernelspec": {
      "name": "python3",
      "display_name": "Python 3"
    }
  },
  "cells": [
    {
      "cell_type": "code",
      "metadata": {
        "id": "kCmQrQbzuh68",
        "colab_type": "code",
        "colab": {}
      },
      "source": [
        "import pandas as pd\n",
        "import numpy as np\n",
        "import scipy \n",
        "import matplotlib.pyplot as plt\n",
        "import seaborn as sns \n",
        "from scipy.optimize import curve_fit"
      ],
      "execution_count": 0,
      "outputs": []
    },
    {
      "cell_type": "code",
      "metadata": {
        "id": "ogNxtZ9wusZT",
        "colab_type": "code",
        "colab": {}
      },
      "source": [
        "s=[[1, 1.709860e+10, 9.882135e-01, 1.800509e+03, -6.951166e+05],\n",
        "[2 ,8.549299e+09, 1.377920e+00 ,1.587362e+03, -2.489381e+06],\n",
        "[3, 4.274650e+09, 1.596560e+00 ,1.371372e+03, -3.648443e+06],\n",
        "[4, 2.137325e+09, 2.278194e+00, 1.175036e+03, -4.441231e+06],\n",
        "[5, 1.068662e+09, 2.978446e+00, 1.004237e+03, -4.972155e+06],\n",
        "[6, 5.343312e+08 ,3.945016e+00, 8.566651e+02, -5.338681e+06],\n",
        "[7, 2.671656e+08, 4.804284e+00, 7.300468e+02, -5.595466e+06],\n",
        "[8, 1.335828e+08, 6.565640e+00, 6.213205e+02 ,-5.779845e+06],\n",
        "[9, 6.679140e+07, 9.118771e+00, 5.281159e+02 ,-5.914153e+06],\n",
        "[10, 3.339570e+07, 1.294697e+01, 4.479740e+02, -6.014636e+06],\n",
        "[11, 1.669785e+07, 1.879395e+01, 3.790007e+02, -6.091109e+06],\n",
        "[12, 8.348925e+06, 2.788737e+01, 3.195392e+02, -6.150809e+06],\n",
        "[13, 3.932678e+10, 7.541419e-01, 2.056349e+03, 2.672650e+06],\n",
        "[14, 4.522579e+10, 7.220323e-01, 2.084648e+03, 3.426775e+06],\n",
        "[15, 5.200966e+10, 6.916810e-01, 2.106536e+03 ,4.247066e+06],\n",
        "[16, 5.981111e+10, 6.630206e-01, 2.120222e+03 ,5.138911e+06],\n",
        "[17, 6.878278e+10, 6.359999e-01, 2.332245e+03 ,7.582476e+06],\n",
        "[18, 7.910020e+10 ,6.109349e-01, 2.110497e+03 ,7.175049e+06],\n",
        "[19, 9.096523e+10 ,5.867808e-01, 2.085488e+03 ,8.307535e+06],\n",
        "[20, 1.046100e+11 ,5.645997e-01, 2.034704e+03 ,9.515448e+06]]"
      ],
      "execution_count": 0,
      "outputs": []
    },
    {
      "cell_type": "code",
      "metadata": {
        "id": "HHGvBjnRvepZ",
        "colab_type": "code",
        "colab": {}
      },
      "source": [
        "df=pd.DataFrame(s)\n",
        "df.columns=['index','P','V','T','E']"
      ],
      "execution_count": 0,
      "outputs": []
    },
    {
      "cell_type": "code",
      "metadata": {
        "id": "9Mv1tcO0vnXc",
        "colab_type": "code",
        "outputId": "b7f06dcb-9201-432f-a930-9833a80f63f0",
        "colab": {
          "base_uri": "https://localhost:8080/",
          "height": 204
        }
      },
      "source": [
        "df.sort_values(by=['V'], inplace=True)\n",
        "df.head()"
      ],
      "execution_count": 4,
      "outputs": [
        {
          "output_type": "execute_result",
          "data": {
            "text/html": [
              "<div>\n",
              "<style scoped>\n",
              "    .dataframe tbody tr th:only-of-type {\n",
              "        vertical-align: middle;\n",
              "    }\n",
              "\n",
              "    .dataframe tbody tr th {\n",
              "        vertical-align: top;\n",
              "    }\n",
              "\n",
              "    .dataframe thead th {\n",
              "        text-align: right;\n",
              "    }\n",
              "</style>\n",
              "<table border=\"1\" class=\"dataframe\">\n",
              "  <thead>\n",
              "    <tr style=\"text-align: right;\">\n",
              "      <th></th>\n",
              "      <th>index</th>\n",
              "      <th>P</th>\n",
              "      <th>V</th>\n",
              "      <th>T</th>\n",
              "      <th>E</th>\n",
              "    </tr>\n",
              "  </thead>\n",
              "  <tbody>\n",
              "    <tr>\n",
              "      <th>19</th>\n",
              "      <td>20</td>\n",
              "      <td>1.046100e+11</td>\n",
              "      <td>0.564600</td>\n",
              "      <td>2034.704</td>\n",
              "      <td>9515448.0</td>\n",
              "    </tr>\n",
              "    <tr>\n",
              "      <th>18</th>\n",
              "      <td>19</td>\n",
              "      <td>9.096523e+10</td>\n",
              "      <td>0.586781</td>\n",
              "      <td>2085.488</td>\n",
              "      <td>8307535.0</td>\n",
              "    </tr>\n",
              "    <tr>\n",
              "      <th>17</th>\n",
              "      <td>18</td>\n",
              "      <td>7.910020e+10</td>\n",
              "      <td>0.610935</td>\n",
              "      <td>2110.497</td>\n",
              "      <td>7175049.0</td>\n",
              "    </tr>\n",
              "    <tr>\n",
              "      <th>16</th>\n",
              "      <td>17</td>\n",
              "      <td>6.878278e+10</td>\n",
              "      <td>0.636000</td>\n",
              "      <td>2332.245</td>\n",
              "      <td>7582476.0</td>\n",
              "    </tr>\n",
              "    <tr>\n",
              "      <th>15</th>\n",
              "      <td>16</td>\n",
              "      <td>5.981111e+10</td>\n",
              "      <td>0.663021</td>\n",
              "      <td>2120.222</td>\n",
              "      <td>5138911.0</td>\n",
              "    </tr>\n",
              "  </tbody>\n",
              "</table>\n",
              "</div>"
            ],
            "text/plain": [
              "    index             P         V         T          E\n",
              "19     20  1.046100e+11  0.564600  2034.704  9515448.0\n",
              "18     19  9.096523e+10  0.586781  2085.488  8307535.0\n",
              "17     18  7.910020e+10  0.610935  2110.497  7175049.0\n",
              "16     17  6.878278e+10  0.636000  2332.245  7582476.0\n",
              "15     16  5.981111e+10  0.663021  2120.222  5138911.0"
            ]
          },
          "metadata": {
            "tags": []
          },
          "execution_count": 4
        }
      ]
    },
    {
      "cell_type": "code",
      "metadata": {
        "colab_type": "code",
        "outputId": "d7a9e47a-0874-41b6-d9be-a3d147343fac",
        "id": "RUwkscDi4HzM",
        "colab": {
          "base_uri": "https://localhost:8080/",
          "height": 269
        }
      },
      "source": [
        "plt.plot(df.P,df.V)\n",
        "plt.scatter(df.P,df.V)\n",
        "plt.xscale('log')\n",
        "#plt.yscale('log')"
      ],
      "execution_count": 11,
      "outputs": [
        {
          "output_type": "display_data",
          "data": {
            "image/png": "[encoded data removed]",
            "text/plain": [
              "<Figure size 432x288 with 1 Axes>"
            ]
          },
          "metadata": {
            "tags": []
          }
        }
      ]
    },
    {
      "cell_type": "code",
      "metadata": {
        "colab_type": "code",
        "id": "eHhaZsBa4GWB",
        "colab": {}
      },
      "source": [
        "def JWL(V,r1,r2,A,B,C):\n",
        "  #xdata=np.array(xdata)\n",
        "  #V,E=xdata\n",
        "  #x1=A*(1-(0.5/(r1*V)))*(np.exp(-(r1*V)))\n",
        "  #x2=B*(1-(0.5/(r2*V)))*(np.exp(-(r2*V)))\n",
        "  #x3=C*(0.5*E)/V\n",
        "  #return x1+x2+x3\n",
        "  return A*(np.exp(-(r1*V)))+B*(np.exp(-(r2*V)))+C*V**(-1.5)"
      ],
      "execution_count": 0,
      "outputs": []
    },
    {
      "cell_type": "code",
      "metadata": {
        "id": "NJUYHgDi6jgT",
        "colab_type": "code",
        "colab": {}
      },
      "source": [
        "P=df.P/1e+6\n",
        "V=df.V"
      ],
      "execution_count": 0,
      "outputs": []
    },
    {
      "cell_type": "code",
      "metadata": {
        "id": "Xqs-Zk-96pEH",
        "colab_type": "code",
        "colab": {}
      },
      "source": [
        ""
      ],
      "execution_count": 0,
      "outputs": []
    },
    {
      "cell_type": "code",
      "metadata": {
        "id": "PK1LwQhP6z3r",
        "colab_type": "code",
        "colab": {}
      },
      "source": [
        "from scipy.optimize import curve_fit\n",
        "import numpy as np"
      ],
      "execution_count": 0,
      "outputs": []
    },
    {
      "cell_type": "code",
      "metadata": {
        "id": "fas62P_18Y5_",
        "colab_type": "code",
        "colab": {}
      },
      "source": [
        "opt,cov=curve_fit(JWL,V,P,(1,2,23247,33548,4324),method='lm')"
      ],
      "execution_count": 0,
      "outputs": []
    },
    {
      "cell_type": "code",
      "metadata": {
        "id": "JiUgGvenNWnp",
        "colab_type": "code",
        "colab": {
          "base_uri": "https://localhost:8080/",
          "height": 282
        },
        "outputId": "76ba9eea-1245-4164-a584-1c8e726f4642"
      },
      "source": [
        "\n",
        "plt.plot(V,P)\n",
        "plt.scatter(V,P)\n",
        "plt.plot(V,JWL(V,*opt))\n",
        "plt.scatter(V,JWL(V,*opt))\n",
        "#plt.xscale('log')\n",
        "#plt.yscale('log')\n",
        "plt.scatter( 9.882135e-01,1.709860e+4)"
      ],
      "execution_count": 127,
      "outputs": [
        {
          "output_type": "execute_result",
          "data": {
            "text/plain": [
              "<matplotlib.collections.PathCollection at 0x7fc042ed73c8>"
            ]
          },
          "metadata": {
            "tags": []
          },
          "execution_count": 127
        },
        {
          "output_type": "display_data",
          "data": {
            "image/png": "[encoded data removed]",
            "text/plain": [
              "<Figure size 432x288 with 1 Axes>"
            ]
          },
          "metadata": {
            "tags": []
          }
        }
      ]
    },
    {
      "cell_type": "code",
      "metadata": {
        "id": "G-XphJZc6-rU",
        "colab_type": "code",
        "colab": {
          "base_uri": "https://localhost:8080/",
          "height": 282
        },
        "outputId": "474c2938-d8f9-476c-dcd3-3de9580b5190"
      },
      "source": [
        "\n",
        "plt.plot(V,P)\n",
        "plt.scatter(V,P)\n",
        "plt.plot(V,JWL(V,*opt))\n",
        "plt.scatter(V,JWL(V,*opt))\n",
        "#plt.xscale('log')\n",
        "plt.yscale('log')\n",
        "plt.scatter( 9.882135e-01,1.709860e+4)"
      ],
      "execution_count": 136,
      "outputs": [
        {
          "output_type": "execute_result",
          "data": {
            "text/plain": [
              "<matplotlib.collections.PathCollection at 0x7fc042b0a588>"
            ]
          },
          "metadata": {
            "tags": []
          },
          "execution_count": 136
        },
        {
          "output_type": "display_data",
          "data": {
            "image/png": "[encoded data removed]",
            "text/plain": [
              "<Figure size 432x288 with 1 Axes>"
            ]
          },
          "metadata": {
            "tags": []
          }
        }
      ]
    },
    {
      "cell_type": "code",
      "metadata": {
        "id": "dDEicOdx8Gzb",
        "colab_type": "code",
        "colab": {
          "base_uri": "https://localhost:8080/",
          "height": 286
        },
        "outputId": "f9c3231c-d2da-464b-ab5d-e71feb3b73b0"
      },
      "source": [
        "plt.plot(V,P)\n",
        "plt.scatter(V,P)\n",
        "plt.plot(V,JWL(V,*opt))\n",
        "plt.scatter(V,JWL(V,*opt))\n",
        "plt.xscale('log')\n",
        "#plt.yscale('log')\n",
        "plt.scatter( 9.882135e-01,1.709860e+4)"
      ],
      "execution_count": 92,
      "outputs": [
        {
          "output_type": "execute_result",
          "data": {
            "text/plain": [
              "<matplotlib.collections.PathCollection at 0x7fc043dd1ba8>"
            ]
          },
          "metadata": {
            "tags": []
          },
          "execution_count": 92
        },
        {
          "output_type": "display_data",
          "data": {
            "image/png": "[encoded data removed]",
            "text/plain": [
              "<Figure size 432x288 with 1 Axes>"
            ]
          },
          "metadata": {
            "tags": []
          }
        }
      ]
    },
    {
      "cell_type": "code",
      "metadata": {
        "id": "QwOMiN-vBdjd",
        "colab_type": "code",
        "colab": {
          "base_uri": "https://localhost:8080/",
          "height": 51
        },
        "outputId": "8c69472e-cf0f-4943-abde-11bbee0c8620"
      },
      "source": [
        "opt"
      ],
      "execution_count": 93,
      "outputs": [
        {
          "output_type": "execute_result",
          "data": {
            "text/plain": [
              "array([8.55200867e+00, 2.28815398e+00, 7.92143171e+06, 1.10744673e+05,\n",
              "       4.44751358e+03])"
            ]
          },
          "metadata": {
            "tags": []
          },
          "execution_count": 93
        }
      ]
    },
    {
      "cell_type": "code",
      "metadata": {
        "id": "fVhnNvHaBoli",
        "colab_type": "code",
        "colab": {
          "base_uri": "https://localhost:8080/",
          "height": 374
        },
        "outputId": "730feff2-b67c-445f-e817-c182938eb454"
      },
      "source": [
        "JWL(V,*opt)-P"
      ],
      "execution_count": 89,
      "outputs": [
        {
          "output_type": "execute_result",
          "data": {
            "text/plain": [
              "19    -337.230710\n",
              "18     264.856436\n",
              "17     211.971700\n",
              "16     233.503153\n",
              "15      26.384321\n",
              "14    -156.840587\n",
              "13    -267.456541\n",
              "12    -288.533037\n",
              "0      663.646558\n",
              "1    -1007.284764\n",
              "2      808.563323\n",
              "3     -240.777496\n",
              "4      -81.937520\n",
              "5       46.577852\n",
              "6      157.049869\n",
              "7      130.814567\n",
              "8       94.724078\n",
              "9       62.074128\n",
              "10      37.889405\n",
              "11      21.851080\n",
              "dtype: float64"
            ]
          },
          "metadata": {
            "tags": []
          },
          "execution_count": 89
        }
      ]
    },
    {
      "cell_type": "code",
      "metadata": {
        "id": "lec8drs8CikY",
        "colab_type": "code",
        "colab": {}
      },
      "source": [
        "V1=np.linspace(0.5,10,1000)"
      ],
      "execution_count": 0,
      "outputs": []
    },
    {
      "cell_type": "code",
      "metadata": {
        "id": "sFjb5nfwKy2N",
        "colab_type": "code",
        "colab": {
          "base_uri": "https://localhost:8080/",
          "height": 299
        },
        "outputId": "0593942c-7b8d-4c84-8838-2a77c4a477c3"
      },
      "source": [
        "plt.plot(V1,16797.19354596952*V1**-1.5)\n",
        "#plt.scatter(V1,P)\n",
        "plt.plot(V1,JWL(V1,*opt))\n",
        "plt.xscale('log')\n",
        "#plt.yscale('log')\n",
        "plt.scatter( 9.882135e-01,1.709860e+4)\n",
        "plt.title(\"blue -isentrope LINE  ORANGE-JWL \")\n",
        "#plt.scatter(V,P)\n",
        "#plt.scatter(V1,JWL(V1,*opt))\n",
        "plt.ylabel(\"pressure(Mpa)\")\n",
        "plt.xlabel(\"volume v/v0 (logrithmic scale)\")\n",
        "plt.show()\n"
      ],
      "execution_count": 164,
      "outputs": [
        {
          "output_type": "display_data",
          "data": {
            "image/png": "[encoded data removed]",
            "text/plain": [
              "<Figure size 432x288 with 1 Axes>"
            ]
          },
          "metadata": {
            "tags": []
          }
        }
      ]
    },
    {
      "cell_type": "code",
      "metadata": {
        "id": "AP_QPQqALEqe",
        "colab_type": "code",
        "colab": {
          "base_uri": "https://localhost:8080/",
          "height": 34
        },
        "outputId": "52b7c95e-3a67-4646-a430-e1223e6657de"
      },
      "source": [
        "(1.709860e+4* 9.882135e-01**(1.5))"
      ],
      "execution_count": 165,
      "outputs": [
        {
          "output_type": "execute_result",
          "data": {
            "text/plain": [
              "16797.19354596952"
            ]
          },
          "metadata": {
            "tags": []
          },
          "execution_count": 165
        }
      ]
    },
    {
      "cell_type": "code",
      "metadata": {
        "id": "kH4DEwkTLn6V",
        "colab_type": "code",
        "colab": {
          "base_uri": "https://localhost:8080/",
          "height": 374
        },
        "outputId": "b3712f08-29bf-4bc4-ae2c-8a3d0271b7af"
      },
      "source": [
        "P"
      ],
      "execution_count": 154,
      "outputs": [
        {
          "output_type": "execute_result",
          "data": {
            "text/plain": [
              "19    104610.000000\n",
              "18     90965.230000\n",
              "17     79100.200000\n",
              "16     68782.780000\n",
              "15     59811.110000\n",
              "14     52009.660000\n",
              "13     45225.790000\n",
              "12     39326.780000\n",
              "0      17098.600000\n",
              "1       8549.299000\n",
              "2       4274.650000\n",
              "3       2137.325000\n",
              "4       1068.662000\n",
              "5        534.331200\n",
              "6        267.165600\n",
              "7        133.582800\n",
              "8         66.791400\n",
              "9         33.395700\n",
              "10        16.697850\n",
              "11         8.348925\n",
              "Name: P, dtype: float64"
            ]
          },
          "metadata": {
            "tags": []
          },
          "execution_count": 154
        }
      ]
    },
    {
      "cell_type": "code",
      "metadata": {
        "id": "lmXAHvVdP7tU",
        "colab_type": "code",
        "colab": {}
      },
      "source": [
        ""
      ],
      "execution_count": 0,
      "outputs": []
    }
  ]
}